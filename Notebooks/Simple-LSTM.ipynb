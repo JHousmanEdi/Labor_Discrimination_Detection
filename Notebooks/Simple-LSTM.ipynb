{
 "cells": [
  {
   "cell_type": "code",
   "execution_count": 106,
   "metadata": {
    "ExecuteTime": {
     "end_time": "2018-03-09T20:00:49.202185Z",
     "start_time": "2018-03-09T20:00:49.187228Z"
    }
   },
   "outputs": [],
   "source": [
    "import numpy as np\n",
    "import pandas as pd\n",
    "from keras.datasets import imdb\n",
    "from keras.models import Sequential\n",
    "from keras.layers import Dense\n",
    "from keras.layers import LSTM\n",
    "from keras.layers.embeddings import Embedding\n",
    "from keras.preprocessing import sequence\n",
    "from keras.layers.convolutional import Conv1D\n",
    "from keras.layers.convolutional import MaxPooling1D\n",
    "from keras.preprocessing.text import Tokenizer\n",
    "from keras.preprocessing.sequence import pad_sequences\n",
    "\n",
    "\n",
    "from sklearn.model_selection import StratifiedKFold\n",
    "from sklearn.model_selection import StratifiedShuffleSplit\n",
    "from sklearn.metrics import confusion_matrix\n",
    "\n",
    "\n",
    "np.random.seed(7)\n",
    "\n",
    "\n",
    "from lxml import etree\n",
    "from lxml import html\n",
    "import os\n",
    "from collections import OrderedDict\n",
    "while os.path.basename(os.getcwd()) != 'Labor_Discrimination':\n",
    "    os.chdir('..')"
   ]
  },
  {
   "cell_type": "markdown",
   "metadata": {},
   "source": [
    "## Formulating our Representation"
   ]
  },
  {
   "cell_type": "code",
   "execution_count": 2,
   "metadata": {
    "ExecuteTime": {
     "end_time": "2018-03-09T19:34:44.174976Z",
     "start_time": "2018-03-09T19:34:44.166559Z"
    },
    "collapsed": true
   },
   "outputs": [],
   "source": [
    "job_ads_dir = os.path.join(os.getcwd(), 'Job-Ads')\n",
    "out_dir = os.path.join(os.getcwd(), 'Job-Text')\n",
    "parser = etree.HTMLParser()"
   ]
  },
  {
   "cell_type": "code",
   "execution_count": 4,
   "metadata": {
    "ExecuteTime": {
     "end_time": "2018-03-09T19:34:48.614012Z",
     "start_time": "2018-03-09T19:34:48.600900Z"
    },
    "collapsed": true
   },
   "outputs": [],
   "source": [
    "df = pd.read_csv('labor_discrim_clid_label.csv', index_col='clid')"
   ]
  },
  {
   "cell_type": "code",
   "execution_count": 23,
   "metadata": {
    "collapsed": true
   },
   "outputs": [],
   "source": [
    "#Storing text into text files\n",
    "for index, file in enumerate(os.listdir(job_ads_dir)):\n",
    "    html_doc = os.path.join(job_ads_dir, file)\n",
    "    try:\n",
    "        tree = etree.parse(html_doc, parser)\n",
    "        body_text = tree.xpath('//*[@id=\"postingbody\"]//text()')\n",
    "        body_text_str = ' '.join(body_text)\n",
    "        body_text_str = body_text_str.replace('QR Code Link to This Post', '')\n",
    "        body_text_clean = body_text_str.rstrip().replace(\"\\n\",\"\")\n",
    "        file_name, ext = os.path.splitext(file)\n",
    "        out_loc = os.path.join(out_dir, file_name)\n",
    "        with open(out_loc, 'w') as f:\n",
    "            f.write(body_text_clean)\n",
    "    except Exception as e:\n",
    "        print(e)"
   ]
  },
  {
   "cell_type": "code",
   "execution_count": 9,
   "metadata": {
    "ExecuteTime": {
     "end_time": "2018-03-09T19:36:08.203675Z",
     "start_time": "2018-03-09T19:36:07.442812Z"
    }
   },
   "outputs": [
    {
     "name": "stderr",
     "output_type": "stream",
     "text": [
      "/home/jason/anaconda3/envs/labordiscrim/lib/python3.5/site-packages/keras/preprocessing/text.py:157: UserWarning: The `nb_words` argument in `Tokenizer` has been renamed `num_words`.\n",
      "  warnings.warn('The `nb_words` argument in `Tokenizer` '\n"
     ]
    },
    {
     "name": "stdout",
     "output_type": "stream",
     "text": [
      "Found 21120 unique tokens\n"
     ]
    }
   ],
   "source": [
    "texts = OrderedDict()\n",
    "for index, file in enumerate(os.listdir(out_dir)):\n",
    "    path = os.path.join(out_dir, file)\n",
    "    with open(path, 'r') as f:\n",
    "        text = f.read()\n",
    "        clid, ext = os.path.splitext(file)\n",
    "        if int(clid) in df.index:\n",
    "            texts[clid] = text\n",
    "tokenizer = Tokenizer(nb_words=1000)\n",
    "tokenizer.fit_on_texts(texts.values())\n",
    "sequences = tokenizer.texts_to_sequences(texts.values())\n",
    "word_index = tokenizer.word_index\n",
    "print(\"Found {} unique tokens\".format(len(word_index)))\n",
    "data = pad_sequences(sequences, 200)"
   ]
  },
  {
   "cell_type": "code",
   "execution_count": 49,
   "metadata": {
    "ExecuteTime": {
     "end_time": "2018-03-09T19:47:43.776699Z",
     "start_time": "2018-03-09T19:47:42.880309Z"
    },
    "collapsed": true
   },
   "outputs": [],
   "source": [
    "labels_indig=[]\n",
    "labels_reverse=[]\n",
    "labels_all=[]\n",
    "for index, key in enumerate(texts.keys()):\n",
    "    labels_indig.append(df.loc[int(key)]['indigenous_discrimination'])\n",
    "    labels_reverse.append(df.loc[int(key)]['reverse_discrimination'])\n",
    "    labels_all.append(df.loc[int(key)]['discrimination'])"
   ]
  },
  {
   "cell_type": "code",
   "execution_count": 50,
   "metadata": {
    "ExecuteTime": {
     "end_time": "2018-03-09T19:47:44.164808Z",
     "start_time": "2018-03-09T19:47:44.145292Z"
    }
   },
   "outputs": [
    {
     "name": "stdout",
     "output_type": "stream",
     "text": [
      "(4623, 200)\n",
      "(4623,)\n"
     ]
    }
   ],
   "source": [
    "print(data.shape)\n",
    "print(labels.shape)\n",
    "word_tokens = OrderedDict()\n",
    "for index, key in enumerate(texts.keys()):\n",
    "    word_tokens[key] = data[index]"
   ]
  },
  {
   "cell_type": "code",
   "execution_count": 76,
   "metadata": {
    "ExecuteTime": {
     "end_time": "2018-03-09T19:52:57.433971Z",
     "start_time": "2018-03-09T19:52:57.225113Z"
    },
    "collapsed": true
   },
   "outputs": [],
   "source": [
    "df_tokens = pd.DataFrame.from_dict(word_tokens, orient='index')"
   ]
  },
  {
   "cell_type": "code",
   "execution_count": 77,
   "metadata": {
    "ExecuteTime": {
     "end_time": "2018-03-09T19:52:58.703580Z",
     "start_time": "2018-03-09T19:52:58.699206Z"
    },
    "collapsed": true
   },
   "outputs": [],
   "source": [
    "df_tokens['indigenous_discrimination'] = labels_indig\n",
    "df_tokens['reverse_discrimination'] = labels_reverse\n",
    "df_tokens['discrimination'] = labels_all"
   ]
  },
  {
   "cell_type": "code",
   "execution_count": 79,
   "metadata": {
    "ExecuteTime": {
     "end_time": "2018-03-09T19:53:15.784379Z",
     "start_time": "2018-03-09T19:53:15.518911Z"
    },
    "collapsed": true
   },
   "outputs": [],
   "source": [
    "df_tokens.to_csv('tokens_1000num_200pad.csv', index=True)"
   ]
  },
  {
   "cell_type": "markdown",
   "metadata": {},
   "source": [
    "### Possess Dataframe of Tokenized Words"
   ]
  },
  {
   "cell_type": "code",
   "execution_count": 84,
   "metadata": {
    "ExecuteTime": {
     "end_time": "2018-03-09T19:53:46.905329Z",
     "start_time": "2018-03-09T19:53:46.845087Z"
    }
   },
   "outputs": [],
   "source": [
    "df_tokens = pd.read_csv('tokens_1000num_200pad.csv', index_col=0)"
   ]
  },
  {
   "cell_type": "code",
   "execution_count": 93,
   "metadata": {
    "ExecuteTime": {
     "end_time": "2018-03-09T19:55:29.349095Z",
     "start_time": "2018-03-09T19:55:29.334842Z"
    },
    "collapsed": true
   },
   "outputs": [],
   "source": [
    "X = df_tokens[df_tokens.columns[:-3]].as_matrix()\n",
    "y = df_tokens['indigenous_discrimination'].as_matrix()"
   ]
  },
  {
   "cell_type": "code",
   "execution_count": 94,
   "metadata": {
    "ExecuteTime": {
     "end_time": "2018-03-09T19:55:29.778067Z",
     "start_time": "2018-03-09T19:55:29.753382Z"
    }
   },
   "outputs": [],
   "source": [
    "sss = StratifiedShuffleSplit(n_splits=2, test_size=0.33, random_state=0)\n",
    "sss.get_n_splits(X, y)\n",
    "for train_index, test_index in sss.split(X, y):\n",
    "    X_train, X_test  = X[train_index], X[test_index]\n",
    "    y_train, y_test = y[train_index], y[test_index]"
   ]
  },
  {
   "cell_type": "markdown",
   "metadata": {},
   "source": [
    "### Preparing Word Embeddings"
   ]
  },
  {
   "cell_type": "raw",
   "metadata": {},
   "source": [
    "https://blog.keras.io/using-pre-trained-word-embeddings-in-a-keras-model.html"
   ]
  },
  {
   "cell_type": "code",
   "execution_count": 10,
   "metadata": {
    "ExecuteTime": {
     "end_time": "2018-03-09T19:38:50.006834Z",
     "start_time": "2018-03-09T19:36:13.804992Z"
    },
    "collapsed": true
   },
   "outputs": [],
   "source": [
    "embeddings_index_float = {}\n",
    "embeddings_index_broken = {}\n",
    "glove_model = os.path.join(os.getcwd(), 'Glove', 'glove.840B.300d.txt')\n",
    "f = open(glove_model)\n",
    "for line in f:\n",
    "    values = line.split()\n",
    "    word=values[0]\n",
    "    try:\n",
    "        coefs = np.asarray(values[1:]).astype(np.float)\n",
    "        embeddings_index_float[word] = coefs\n",
    "    except ValueError as e:\n",
    "        embeddings_index_broken[word] = coefs\n",
    "f.close()"
   ]
  },
  {
   "cell_type": "code",
   "execution_count": 24,
   "metadata": {
    "ExecuteTime": {
     "end_time": "2018-03-09T19:41:20.041591Z",
     "start_time": "2018-03-09T19:41:20.024016Z"
    }
   },
   "outputs": [],
   "source": [
    "embeddings_matrix = np.zeros((len(word_index)+1, 32 ))\n",
    "for word, i in word_index.items():\n",
    "    embedding_vector = embeddings_index_float.get(word)\n",
    "    if embedding_vector is not None:\n",
    "        embeddings_index_float[i] = embedding_vector"
   ]
  },
  {
   "cell_type": "code",
   "execution_count": 27,
   "metadata": {
    "ExecuteTime": {
     "end_time": "2018-03-09T19:41:51.522328Z",
     "start_time": "2018-03-09T19:41:51.520511Z"
    },
    "collapsed": true
   },
   "outputs": [],
   "source": [
    "from keras.layers import Embedding"
   ]
  },
  {
   "cell_type": "code",
   "execution_count": 30,
   "metadata": {
    "ExecuteTime": {
     "end_time": "2018-03-09T19:42:29.477736Z",
     "start_time": "2018-03-09T19:42:29.473018Z"
    }
   },
   "outputs": [],
   "source": [
    "embedding_layer = Embedding(len(word_index)+1, 32, weights=[embeddings_matrix],\n",
    "                            input_length=200, trainable=False)"
   ]
  },
  {
   "cell_type": "code",
   "execution_count": 61,
   "metadata": {
    "ExecuteTime": {
     "end_time": "2018-03-09T19:50:27.631546Z",
     "start_time": "2018-03-09T19:50:27.485342Z"
    }
   },
   "outputs": [],
   "source": [
    "model=Sequential()\n",
    "model.add(embedding_layer)\n",
    "model.add(Conv1D(filters=32, kernel_size=3, padding='same', activation='relu'))\n",
    "model.add(MaxPooling1D(pool_size=2))\n",
    "model.add(LSTM(100))\n",
    "model.add(Dense(1, activation='sigmoid'))\n",
    "model.compile(loss='binary_crossentropy', optimizer='adam', metrics=['accuracy'])"
   ]
  },
  {
   "cell_type": "code",
   "execution_count": 122,
   "metadata": {
    "ExecuteTime": {
     "end_time": "2018-03-09T20:06:28.675966Z",
     "start_time": "2018-03-09T20:06:18.541496Z"
    }
   },
   "outputs": [
    {
     "name": "stdout",
     "output_type": "stream",
     "text": [
      "Epoch 1/3\n",
      "3097/3097 [==============================] - 3s 1ms/step - loss: 0.9808 - acc: 0.9506\n",
      "Epoch 2/3\n",
      "3097/3097 [==============================] - 3s 1ms/step - loss: 0.9296 - acc: 0.9506\n",
      "Epoch 3/3\n",
      "3097/3097 [==============================] - 3s 1ms/step - loss: 0.9292 - acc: 0.9506\n"
     ]
    },
    {
     "data": {
      "text/plain": [
       "<keras.callbacks.History at 0x7efe88514ef0>"
      ]
     },
     "execution_count": 122,
     "metadata": {},
     "output_type": "execute_result"
    }
   ],
   "source": [
    "model.fit(X_train, y_train, epochs=3, batch_size=64, verbose=1, class_weight={0: 1, 1: 10})"
   ]
  },
  {
   "cell_type": "code",
   "execution_count": 123,
   "metadata": {
    "ExecuteTime": {
     "end_time": "2018-03-09T20:06:31.546918Z",
     "start_time": "2018-03-09T20:06:30.814984Z"
    }
   },
   "outputs": [
    {
     "name": "stdout",
     "output_type": "stream",
     "text": [
      "1526/1526 [==============================] - 1s 478us/step\n"
     ]
    }
   ],
   "source": [
    "scores=model.evaluate(X_test, y_test, verbose=1)"
   ]
  },
  {
   "cell_type": "code",
   "execution_count": 124,
   "metadata": {
    "ExecuteTime": {
     "end_time": "2018-03-09T20:07:26.469758Z",
     "start_time": "2018-03-09T20:07:05.136967Z"
    }
   },
   "outputs": [],
   "source": [
    "predictions=model.predict(X_test)"
   ]
  },
  {
   "cell_type": "code",
   "execution_count": 130,
   "metadata": {
    "ExecuteTime": {
     "end_time": "2018-03-09T20:10:09.707312Z",
     "start_time": "2018-03-09T20:10:09.705541Z"
    }
   },
   "outputs": [],
   "source": [
    "y_pred = (predictions > 0.5).astype(int)"
   ]
  },
  {
   "cell_type": "code",
   "execution_count": 132,
   "metadata": {
    "ExecuteTime": {
     "end_time": "2018-03-09T20:10:21.635812Z",
     "start_time": "2018-03-09T20:10:21.617487Z"
    }
   },
   "outputs": [
    {
     "data": {
      "text/plain": [
       "array([[1451,    0],\n",
       "       [  75,    0]])"
      ]
     },
     "execution_count": 132,
     "metadata": {},
     "output_type": "execute_result"
    }
   ],
   "source": [
    "confusion_matrix(y_test, y_pred)"
   ]
  },
  {
   "cell_type": "code",
   "execution_count": 115,
   "metadata": {
    "ExecuteTime": {
     "end_time": "2018-03-09T20:02:56.956235Z",
     "start_time": "2018-03-09T20:02:56.952323Z"
    }
   },
   "outputs": [
    {
     "data": {
      "text/plain": [
       "array([ 0.05461046], dtype=float32)"
      ]
     },
     "execution_count": 115,
     "metadata": {},
     "output_type": "execute_result"
    }
   ],
   "source": [
    "min(predictions)"
   ]
  },
  {
   "cell_type": "code",
   "execution_count": null,
   "metadata": {
    "collapsed": true
   },
   "outputs": [],
   "source": []
  }
 ],
 "metadata": {
  "kernelspec": {
   "display_name": "Python [conda env:labordiscrim]",
   "language": "python",
   "name": "conda-env-labordiscrim-py"
  },
  "language_info": {
   "codemirror_mode": {
    "name": "ipython",
    "version": 3
   },
   "file_extension": ".py",
   "mimetype": "text/x-python",
   "name": "python",
   "nbconvert_exporter": "python",
   "pygments_lexer": "ipython3",
   "version": "3.5.4"
  },
  "notify_time": "5",
  "toc": {
   "nav_menu": {},
   "number_sections": true,
   "sideBar": true,
   "skip_h1_title": false,
   "title_cell": "Table of Contents",
   "title_sidebar": "Contents",
   "toc_cell": false,
   "toc_position": {},
   "toc_section_display": true,
   "toc_window_display": false
  }
 },
 "nbformat": 4,
 "nbformat_minor": 2
}
